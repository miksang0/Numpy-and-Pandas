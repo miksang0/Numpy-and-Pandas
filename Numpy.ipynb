{
  "nbformat": 4,
  "nbformat_minor": 0,
  "metadata": {
    "colab": {
      "provenance": [],
      "gpuType": "T4"
    },
    "kernelspec": {
      "name": "python3",
      "display_name": "Python 3"
    },
    "language_info": {
      "name": "python"
    },
    "accelerator": "GPU"
  },
  "cells": [
    {
      "cell_type": "code",
      "execution_count": 2,
      "metadata": {
        "colab": {
          "base_uri": "https://localhost:8080/"
        },
        "id": "4-iaVa90kaSS",
        "outputId": "55b2abca-cd63-4d51-8f67-3edc90df4c75"
      },
      "outputs": [
        {
          "output_type": "stream",
          "name": "stdout",
          "text": [
            "[1, 2, 3, 4, 5]\n"
          ]
        }
      ],
      "source": [
        "import numpy as np\n",
        "a = [1, 2, 3, 4, 5]\n",
        "print(a)"
      ]
    },
    {
      "cell_type": "code",
      "source": [
        "a = np.array([1, 2, 3, 4, 5, 6, 7])\n",
        "print(a)\n",
        "print(a[:6])\n",
        "print(a[5])"
      ],
      "metadata": {
        "colab": {
          "base_uri": "https://localhost:8080/"
        },
        "id": "oeDE_BzGlN41",
        "outputId": "967cec08-bd3f-4b76-c613-700c9753e588"
      },
      "execution_count": 6,
      "outputs": [
        {
          "output_type": "stream",
          "name": "stdout",
          "text": [
            "[1 2 3 4 5 6 7]\n",
            "[1 2 3 4 5 6]\n",
            "6\n"
          ]
        }
      ]
    },
    {
      "cell_type": "code",
      "source": [
        "a_mul = np.array([[[1, 2, 3, 1],\n",
        "                   [4, 5, 6, 1],\n",
        "                   [7, 8, 9, 1],\n",
        "                   [10, 11, 12, 1]],\n",
        "                  [[1, 1, 1, 1],\n",
        "                    [1, 1, 1, 1],\n",
        "                    [1, 1, 1, 1],\n",
        "                    [1, 1, 1, 1]]])\n",
        "\n",
        "print(a_mul.shape)\n",
        "print(a_mul.ndim)\n",
        "print(a_mul.size)\n",
        "print(a_mul.dtype)\n"
      ],
      "metadata": {
        "colab": {
          "base_uri": "https://localhost:8080/"
        },
        "id": "j7Z-WPfalugb",
        "outputId": "947fb5c1-3f66-4c34-f106-f1fa4f8454a2"
      },
      "execution_count": 16,
      "outputs": [
        {
          "output_type": "stream",
          "name": "stdout",
          "text": [
            "(2, 4, 4)\n",
            "3\n",
            "32\n",
            "int64\n"
          ]
        }
      ]
    },
    {
      "cell_type": "code",
      "source": [
        "a = np.array([[1, 2, 3],\n",
        "              [4, \"5\", 6],\n",
        "              [7, 8, 9]], dtype = np.float32)\n",
        "print(a.dtype)\n",
        "print(a[0][0].dtype)\n",
        "print(a[1, 1])"
      ],
      "metadata": {
        "colab": {
          "base_uri": "https://localhost:8080/"
        },
        "id": "vZ21mgeKnFnK",
        "outputId": "84d8752e-7c25-46e8-b60a-604cae697767"
      },
      "execution_count": 23,
      "outputs": [
        {
          "output_type": "stream",
          "name": "stdout",
          "text": [
            "float32\n",
            "float32\n",
            "5.0\n"
          ]
        }
      ]
    },
    {
      "cell_type": "markdown",
      "source": [
        "When we have something that is not a primitive datatype that we can typecast into, everything become an object. This means dynamictyping. When we want all the number into same datatype as dictionary we have to use python style object."
      ],
      "metadata": {
        "id": "Bh0FcedeqW-b"
      }
    },
    {
      "cell_type": "code",
      "source": [
        "d = {'1': 'A'}\n",
        "\n",
        "a = np.array([[1, 2, 3],\n",
        "              [4, d, 6],\n",
        "              [7, 8, \"hello\"]])\n",
        "print(a.dtype)\n",
        "print(type(a[1][0]))"
      ],
      "metadata": {
        "colab": {
          "base_uri": "https://localhost:8080/"
        },
        "id": "fIFezQVLoIiw",
        "outputId": "0373b245-72fb-4fda-cf61-e5986fe405b2"
      },
      "execution_count": 28,
      "outputs": [
        {
          "output_type": "stream",
          "name": "stdout",
          "text": [
            "object\n",
            "<class 'int'>\n"
          ]
        }
      ]
    },
    {
      "cell_type": "code",
      "source": [],
      "metadata": {
        "id": "UEXcXCb3qBQW"
      },
      "execution_count": null,
      "outputs": []
    }
  ]
}