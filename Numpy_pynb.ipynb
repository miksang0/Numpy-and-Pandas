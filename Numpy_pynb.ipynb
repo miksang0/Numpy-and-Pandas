{
  "nbformat": 4,
  "nbformat_minor": 0,
  "metadata": {
    "colab": {
      "provenance": [],
      "toc_visible": true
    },
    "kernelspec": {
      "name": "python3",
      "display_name": "Python 3"
    },
    "language_info": {
      "name": "python"
    }
  },
  "cells": [
    {
      "cell_type": "code",
      "execution_count": 2,
      "metadata": {
        "colab": {
          "base_uri": "https://localhost:8080/"
        },
        "id": "4-iaVa90kaSS",
        "outputId": "ca6e4dff-aec2-4f0b-9600-d6da7f9e0514"
      },
      "outputs": [
        {
          "output_type": "stream",
          "name": "stdout",
          "text": [
            "[1, 2, 3, 4, 5]\n"
          ]
        }
      ],
      "source": [
        "import numpy as np\n",
        "a = [1, 2, 3, 4, 5]\n",
        "print(a)"
      ]
    },
    {
      "cell_type": "code",
      "source": [
        "a = np.array([1, 2, 3, 4, 5, 6, 7])\n",
        "print(a)\n",
        "print(a[:6])\n",
        "print(a[5])"
      ],
      "metadata": {
        "colab": {
          "base_uri": "https://localhost:8080/"
        },
        "id": "oeDE_BzGlN41",
        "outputId": "868ab8ef-86dc-4d1f-d2cf-c68e22f292da"
      },
      "execution_count": 3,
      "outputs": [
        {
          "output_type": "stream",
          "name": "stdout",
          "text": [
            "[1 2 3 4 5 6 7]\n",
            "[1 2 3 4 5 6]\n",
            "6\n"
          ]
        }
      ]
    },
    {
      "cell_type": "code",
      "source": [
        "a_mul = np.array([[[1, 2, 3, 1],\n",
        "                   [4, 5, 6, 1],\n",
        "                   [7, 8, 9, 1],\n",
        "                   [10, 11, 12, 1]],\n",
        "                  [[1, 1, 1, 1],\n",
        "                    [1, 1, 1, 1],\n",
        "                    [1, 1, 1, 1],\n",
        "                    [1, 1, 1, 1]]])\n",
        "\n",
        "print(a_mul.shape)\n",
        "print(a_mul.ndim)\n",
        "print(a_mul.size)\n",
        "print(a_mul.dtype)\n"
      ],
      "metadata": {
        "colab": {
          "base_uri": "https://localhost:8080/"
        },
        "id": "j7Z-WPfalugb",
        "outputId": "249d491a-e0e6-49e8-81c3-5cab2b90d1d1"
      },
      "execution_count": 4,
      "outputs": [
        {
          "output_type": "stream",
          "name": "stdout",
          "text": [
            "(2, 4, 4)\n",
            "3\n",
            "32\n",
            "int64\n"
          ]
        }
      ]
    },
    {
      "cell_type": "code",
      "source": [
        "a = np.array([[1, 2, 3],\n",
        "              [4, \"5\", 6],\n",
        "              [7, 8, 9]], dtype = np.float32)\n",
        "print(a.dtype)\n",
        "print(a[0][0].dtype)\n",
        "print(a[1, 1])"
      ],
      "metadata": {
        "colab": {
          "base_uri": "https://localhost:8080/"
        },
        "id": "vZ21mgeKnFnK",
        "outputId": "e337eb82-d814-480e-b3ab-33d3bad75c56"
      },
      "execution_count": 5,
      "outputs": [
        {
          "output_type": "stream",
          "name": "stdout",
          "text": [
            "float32\n",
            "float32\n",
            "5.0\n"
          ]
        }
      ]
    },
    {
      "cell_type": "markdown",
      "source": [
        "When we have something that is not a primitive datatype that we can typecast into, everything become an object. This means dynamictyping. When we want all the number into same datatype as dictionary we have to use python style object."
      ],
      "metadata": {
        "id": "Bh0FcedeqW-b"
      }
    },
    {
      "cell_type": "code",
      "source": [
        "d = {'1': 'A'}\n",
        "\n",
        "a = np.array([[1, 2, 3],\n",
        "              [4, d, 6],\n",
        "              [7, 8, \"hello\"]])\n",
        "print(a.dtype)\n",
        "print(type(a[1][0]))"
      ],
      "metadata": {
        "colab": {
          "base_uri": "https://localhost:8080/"
        },
        "id": "fIFezQVLoIiw",
        "outputId": "a0a7c98d-1d37-4a28-979b-1d33fd3453cb"
      },
      "execution_count": 6,
      "outputs": [
        {
          "output_type": "stream",
          "name": "stdout",
          "text": [
            "object\n",
            "<class 'int'>\n"
          ]
        }
      ]
    },
    {
      "cell_type": "markdown",
      "source": [
        "Filling Arrays using different functions."
      ],
      "metadata": {
        "id": "c42wEqGBIv43"
      }
    },
    {
      "cell_type": "code",
      "source": [
        "a = np.full((2, 3, 4), 9)\n",
        "print(a)"
      ],
      "metadata": {
        "id": "UEXcXCb3qBQW",
        "colab": {
          "base_uri": "https://localhost:8080/"
        },
        "outputId": "e46b10b2-fa30-40eb-f9ae-34c15619bab6"
      },
      "execution_count": 7,
      "outputs": [
        {
          "output_type": "stream",
          "name": "stdout",
          "text": [
            "[[[9 9 9 9]\n",
            "  [9 9 9 9]\n",
            "  [9 9 9 9]]\n",
            "\n",
            " [[9 9 9 9]\n",
            "  [9 9 9 9]\n",
            "  [9 9 9 9]]]\n"
          ]
        }
      ]
    },
    {
      "cell_type": "code",
      "source": [
        "a = np.zeros((5, 5, 2))\n",
        "print(a)"
      ],
      "metadata": {
        "colab": {
          "base_uri": "https://localhost:8080/"
        },
        "id": "rysKLLePHWx3",
        "outputId": "180da13d-88f7-46f0-8feb-7eb01d077e45"
      },
      "execution_count": 8,
      "outputs": [
        {
          "output_type": "stream",
          "name": "stdout",
          "text": [
            "[[[0. 0.]\n",
            "  [0. 0.]\n",
            "  [0. 0.]\n",
            "  [0. 0.]\n",
            "  [0. 0.]]\n",
            "\n",
            " [[0. 0.]\n",
            "  [0. 0.]\n",
            "  [0. 0.]\n",
            "  [0. 0.]\n",
            "  [0. 0.]]\n",
            "\n",
            " [[0. 0.]\n",
            "  [0. 0.]\n",
            "  [0. 0.]\n",
            "  [0. 0.]\n",
            "  [0. 0.]]\n",
            "\n",
            " [[0. 0.]\n",
            "  [0. 0.]\n",
            "  [0. 0.]\n",
            "  [0. 0.]\n",
            "  [0. 0.]]\n",
            "\n",
            " [[0. 0.]\n",
            "  [0. 0.]\n",
            "  [0. 0.]\n",
            "  [0. 0.]\n",
            "  [0. 0.]]]\n"
          ]
        }
      ]
    },
    {
      "cell_type": "code",
      "source": [
        "np.ones((5, 3, 3))\n",
        "print(a)"
      ],
      "metadata": {
        "colab": {
          "base_uri": "https://localhost:8080/"
        },
        "id": "F4sFCYpQHswJ",
        "outputId": "d749d809-2201-4217-8007-cd0f673be194"
      },
      "execution_count": 9,
      "outputs": [
        {
          "output_type": "stream",
          "name": "stdout",
          "text": [
            "[[[0. 0.]\n",
            "  [0. 0.]\n",
            "  [0. 0.]\n",
            "  [0. 0.]\n",
            "  [0. 0.]]\n",
            "\n",
            " [[0. 0.]\n",
            "  [0. 0.]\n",
            "  [0. 0.]\n",
            "  [0. 0.]\n",
            "  [0. 0.]]\n",
            "\n",
            " [[0. 0.]\n",
            "  [0. 0.]\n",
            "  [0. 0.]\n",
            "  [0. 0.]\n",
            "  [0. 0.]]\n",
            "\n",
            " [[0. 0.]\n",
            "  [0. 0.]\n",
            "  [0. 0.]\n",
            "  [0. 0.]\n",
            "  [0. 0.]]\n",
            "\n",
            " [[0. 0.]\n",
            "  [0. 0.]\n",
            "  [0. 0.]\n",
            "  [0. 0.]\n",
            "  [0. 0.]]]\n"
          ]
        }
      ]
    },
    {
      "cell_type": "markdown",
      "source": [
        "With np.arrange we can specify the beginning step, the end step and step size."
      ],
      "metadata": {
        "id": "Gs9b5hNgI9Qr"
      }
    },
    {
      "cell_type": "code",
      "source": [
        "x_values = np.arange(0, 500, 5)\n",
        "print(x_values)"
      ],
      "metadata": {
        "colab": {
          "base_uri": "https://localhost:8080/"
        },
        "id": "7LVJ-gnkH54F",
        "outputId": "2082d1cd-2279-496e-ab21-fe9f3b948df5"
      },
      "execution_count": 10,
      "outputs": [
        {
          "output_type": "stream",
          "name": "stdout",
          "text": [
            "[  0   5  10  15  20  25  30  35  40  45  50  55  60  65  70  75  80  85\n",
            "  90  95 100 105 110 115 120 125 130 135 140 145 150 155 160 165 170 175\n",
            " 180 185 190 195 200 205 210 215 220 225 230 235 240 245 250 255 260 265\n",
            " 270 275 280 285 290 295 300 305 310 315 320 325 330 335 340 345 350 355\n",
            " 360 365 370 375 380 385 390 395 400 405 410 415 420 425 430 435 440 445\n",
            " 450 455 460 465 470 475 480 485 490 495]\n"
          ]
        }
      ]
    },
    {
      "cell_type": "markdown",
      "source": [
        "With np.linspace we can specify the beginning step, the end step and the step count."
      ],
      "metadata": {
        "id": "RPQGHUCsJHLO"
      }
    },
    {
      "cell_type": "code",
      "source": [
        "y_values = np.linspace(0, 100, 5)\n",
        "print(y_values)"
      ],
      "metadata": {
        "colab": {
          "base_uri": "https://localhost:8080/"
        },
        "id": "fS9i-qABIfpA",
        "outputId": "6aa67d31-1c70-4a60-a5c7-6d433d0be015"
      },
      "execution_count": 11,
      "outputs": [
        {
          "output_type": "stream",
          "name": "stdout",
          "text": [
            "[  0.  25.  50.  75. 100.]\n"
          ]
        }
      ]
    },
    {
      "cell_type": "markdown",
      "source": [
        "NaN and Inf"
      ],
      "metadata": {
        "id": "jlf4w0buKAT7"
      }
    },
    {
      "cell_type": "code",
      "source": [
        "print(np.nan)\n",
        "print(np.inf)\n",
        "\n",
        "print(np.sqrt(-1))\n",
        "print(np.array([10]) / 0)"
      ],
      "metadata": {
        "colab": {
          "base_uri": "https://localhost:8080/"
        },
        "id": "z8rJChkzJPx6",
        "outputId": "00dfe83d-fc91-45be-fbbd-b09d0e30ae31"
      },
      "execution_count": 12,
      "outputs": [
        {
          "output_type": "stream",
          "name": "stdout",
          "text": [
            "nan\n",
            "inf\n",
            "nan\n",
            "[inf]\n"
          ]
        },
        {
          "output_type": "stream",
          "name": "stderr",
          "text": [
            "/tmp/ipython-input-1099712202.py:4: RuntimeWarning: invalid value encountered in sqrt\n",
            "  print(np.sqrt(-1))\n",
            "/tmp/ipython-input-1099712202.py:5: RuntimeWarning: divide by zero encountered in divide\n",
            "  print(np.array([10]) / 0)\n"
          ]
        }
      ]
    },
    {
      "cell_type": "markdown",
      "source": [
        "Mathematical Operations in Numpy"
      ],
      "metadata": {
        "id": "PeBSPOdzLFHf"
      }
    },
    {
      "cell_type": "code",
      "source": [
        "listOne = [1, 2, 3, 4, 5]\n",
        "listTwo = [2, 5, 10, 15, 15]\n",
        "\n",
        "arrayOne = np.array(listOne)\n",
        "arrayTwo = np.array(listTwo)\n",
        "\n",
        "print(listOne * 2)\n",
        "print(arrayTwo * 2)"
      ],
      "metadata": {
        "colab": {
          "base_uri": "https://localhost:8080/"
        },
        "id": "uo9BfCdIKFy7",
        "outputId": "c500c60e-568f-414d-a121-374b8f959a9b"
      },
      "execution_count": 13,
      "outputs": [
        {
          "output_type": "stream",
          "name": "stdout",
          "text": [
            "[1, 2, 3, 4, 5, 1, 2, 3, 4, 5]\n",
            "[ 4 10 20 30 30]\n"
          ]
        }
      ]
    },
    {
      "cell_type": "code",
      "source": [
        "a1 = np.array([1, 2, 3])\n",
        "a2 = np.array([[1],\n",
        "              [2]])\n",
        "print(a1 + a2)"
      ],
      "metadata": {
        "colab": {
          "base_uri": "https://localhost:8080/"
        },
        "id": "N5PmIgCLK8dO",
        "outputId": "c69c344c-f74b-4ece-9afa-dbc981919d2c"
      },
      "execution_count": null,
      "outputs": [
        {
          "output_type": "stream",
          "name": "stdout",
          "text": [
            "[[2 3 4]\n",
            " [3 4 5]]\n"
          ]
        }
      ]
    },
    {
      "cell_type": "code",
      "source": [
        "a = np.array([[1, 2, 3],\n",
        "              [4, 5, 6]])\n",
        "print(np.sqrt(a))\n",
        "print(np.sin(a))"
      ],
      "metadata": {
        "colab": {
          "base_uri": "https://localhost:8080/"
        },
        "id": "4k2KW1MNL10l",
        "outputId": "8f1e95a9-32da-4831-c907-4cb7819f9ccc"
      },
      "execution_count": 14,
      "outputs": [
        {
          "output_type": "stream",
          "name": "stdout",
          "text": [
            "[[1.         1.41421356 1.73205081]\n",
            " [2.         2.23606798 2.44948974]]\n",
            "[[ 0.84147098  0.90929743  0.14112001]\n",
            " [-0.7568025  -0.95892427 -0.2794155 ]]\n"
          ]
        }
      ]
    },
    {
      "cell_type": "code",
      "source": [
        "b = np.array([1, 2, 3])\n",
        "b = np.append(a, [7, 8, 9])\n",
        "\n",
        "b = np.insert(a, 3, [8, 9])\n",
        "print(b)"
      ],
      "metadata": {
        "colab": {
          "base_uri": "https://localhost:8080/"
        },
        "id": "P__UJHbWMf3C",
        "outputId": "1894872a-1ee6-4e28-ff3f-c437be8aea7c"
      },
      "execution_count": 15,
      "outputs": [
        {
          "output_type": "stream",
          "name": "stdout",
          "text": [
            "[1 2 3 8 9 4 5 6]\n"
          ]
        }
      ]
    },
    {
      "cell_type": "code",
      "source": [
        "a = np.array([[1, 2, 3],\n",
        "              [4, 5, 6]])\n",
        "\n",
        "print(np.delete(a, 1))\n",
        "print(np.delete(a, 1, axis = 0)) #got rid of the second row\n",
        "print(np.delete(a, 1, axis = 1)) #got rid of the second column\n",
        "\n"
      ],
      "metadata": {
        "colab": {
          "base_uri": "https://localhost:8080/"
        },
        "id": "-8vg-rUYNRBU",
        "outputId": "975d3386-8a37-49a2-bde4-754ffd8984ab"
      },
      "execution_count": 16,
      "outputs": [
        {
          "output_type": "stream",
          "name": "stdout",
          "text": [
            "[1 3 4 5 6]\n",
            "[[1 2 3]]\n",
            "[[1 3]\n",
            " [4 6]]\n"
          ]
        }
      ]
    },
    {
      "cell_type": "markdown",
      "source": [
        "Structuring the arrays"
      ],
      "metadata": {
        "id": "VYgsM4POPJXN"
      }
    },
    {
      "cell_type": "code",
      "source": [
        "a = np.array([[1, 2, 3, 4, 5],\n",
        "               [6, 7, 8, 9, 10],\n",
        "               [11, 12, 13, 14, 15],\n",
        "               [16, 17, 18, 19, 20]])\n",
        "print(a.shape)\n",
        "print(a.reshape((5,4)))\n",
        "print(a.reshape((20,)))\n",
        "print(a.reshape((2, 10)))\n",
        "print(a.reshape((2, 5, 2)))"
      ],
      "metadata": {
        "colab": {
          "base_uri": "https://localhost:8080/"
        },
        "id": "Ru8WViNuN4fj",
        "outputId": "981fac1a-8750-4844-8194-a8452bbd62b0"
      },
      "execution_count": 17,
      "outputs": [
        {
          "output_type": "stream",
          "name": "stdout",
          "text": [
            "(4, 5)\n",
            "[[ 1  2  3  4]\n",
            " [ 5  6  7  8]\n",
            " [ 9 10 11 12]\n",
            " [13 14 15 16]\n",
            " [17 18 19 20]]\n",
            "[ 1  2  3  4  5  6  7  8  9 10 11 12 13 14 15 16 17 18 19 20]\n",
            "[[ 1  2  3  4  5  6  7  8  9 10]\n",
            " [11 12 13 14 15 16 17 18 19 20]]\n",
            "[[[ 1  2]\n",
            "  [ 3  4]\n",
            "  [ 5  6]\n",
            "  [ 7  8]\n",
            "  [ 9 10]]\n",
            "\n",
            " [[11 12]\n",
            "  [13 14]\n",
            "  [15 16]\n",
            "  [17 18]\n",
            "  [19 20]]]\n"
          ]
        }
      ]
    },
    {
      "cell_type": "code",
      "source": [
        "a = np.array([[1, 2, 3, 4, 5],\n",
        "               [6, 7, 8, 9, 10],\n",
        "               [11, 12, 13, 14, 15],\n",
        "               [16, 17, 18, 19, 20]])\n",
        "a.reshape((10, 2))\n",
        "print(a)\n",
        "\n",
        "a.resize((10, 2))\n",
        "print(a)\n",
        "\n",
        "print(a.flatten())"
      ],
      "metadata": {
        "colab": {
          "base_uri": "https://localhost:8080/"
        },
        "id": "4-ZkH_YwOmjk",
        "outputId": "e5833cce-3a53-40b0-cba6-8b1e94860589"
      },
      "execution_count": 18,
      "outputs": [
        {
          "output_type": "stream",
          "name": "stdout",
          "text": [
            "[[ 1  2  3  4  5]\n",
            " [ 6  7  8  9 10]\n",
            " [11 12 13 14 15]\n",
            " [16 17 18 19 20]]\n",
            "[[ 1  2]\n",
            " [ 3  4]\n",
            " [ 5  6]\n",
            " [ 7  8]\n",
            " [ 9 10]\n",
            " [11 12]\n",
            " [13 14]\n",
            " [15 16]\n",
            " [17 18]\n",
            " [19 20]]\n",
            "[ 1  2  3  4  5  6  7  8  9 10 11 12 13 14 15 16 17 18 19 20]\n"
          ]
        }
      ]
    },
    {
      "cell_type": "code",
      "source": [
        "a = np.array([[1, 2, 3, 4, 5],\n",
        "               [6, 7, 8, 9, 10],\n",
        "               [11, 12, 13, 14, 15],\n",
        "               [16, 17, 18, 19, 20]])\n",
        "\n",
        "var1 = a.flatten()\n",
        "var1[2] = 100\n",
        "print(var1)\n",
        "print(a)\n",
        "\n",
        "var2 = a.ravel()\n",
        "var2[2] = 100\n",
        "print(var2)\n",
        "print(a)"
      ],
      "metadata": {
        "colab": {
          "base_uri": "https://localhost:8080/"
        },
        "id": "7gy8Dn4lPv8l",
        "outputId": "d2246840-457a-4f91-b4b3-7002c6023722"
      },
      "execution_count": 19,
      "outputs": [
        {
          "output_type": "stream",
          "name": "stdout",
          "text": [
            "[  1   2 100   4   5   6   7   8   9  10  11  12  13  14  15  16  17  18\n",
            "  19  20]\n",
            "[[ 1  2  3  4  5]\n",
            " [ 6  7  8  9 10]\n",
            " [11 12 13 14 15]\n",
            " [16 17 18 19 20]]\n",
            "[  1   2 100   4   5   6   7   8   9  10  11  12  13  14  15  16  17  18\n",
            "  19  20]\n",
            "[[  1   2 100   4   5]\n",
            " [  6   7   8   9  10]\n",
            " [ 11  12  13  14  15]\n",
            " [ 16  17  18  19  20]]\n"
          ]
        }
      ]
    },
    {
      "cell_type": "code",
      "source": [
        "var = [v for v in a.flat]\n",
        "print(var)"
      ],
      "metadata": {
        "colab": {
          "base_uri": "https://localhost:8080/"
        },
        "id": "XUgnFSACRXjW",
        "outputId": "eb8d18db-5a77-4a96-b2f9-7490f138b672"
      },
      "execution_count": null,
      "outputs": [
        {
          "output_type": "stream",
          "name": "stdout",
          "text": [
            "[np.int64(1), np.int64(2), np.int64(100), np.int64(4), np.int64(5), np.int64(6), np.int64(7), np.int64(8), np.int64(9), np.int64(10), np.int64(11), np.int64(12), np.int64(13), np.int64(14), np.int64(15), np.int64(16), np.int64(17), np.int64(18), np.int64(19), np.int64(20)]\n"
          ]
        }
      ]
    },
    {
      "cell_type": "code",
      "source": [
        "a = np.array([[1, 2, 3, 4, 5],\n",
        "               [6, 7, 8, 9, 10],\n",
        "               [11, 12, 13, 14, 15],\n",
        "               [16, 17, 18, 19, 20]])\n",
        "\n",
        "print(a.transpose())\n",
        "print(a.swapaxes(0, 1))"
      ],
      "metadata": {
        "id": "raHpwHN9RzQF",
        "colab": {
          "base_uri": "https://localhost:8080/"
        },
        "outputId": "54a34926-58a7-44fc-d3e2-65916d64bcae"
      },
      "execution_count": 21,
      "outputs": [
        {
          "output_type": "stream",
          "name": "stdout",
          "text": [
            "[[ 1  6 11 16]\n",
            " [ 2  7 12 17]\n",
            " [ 3  8 13 18]\n",
            " [ 4  9 14 19]\n",
            " [ 5 10 15 20]]\n",
            "[[ 1  6 11 16]\n",
            " [ 2  7 12 17]\n",
            " [ 3  8 13 18]\n",
            " [ 4  9 14 19]\n",
            " [ 5 10 15 20]]\n"
          ]
        }
      ]
    },
    {
      "cell_type": "markdown",
      "source": [
        "Concatenating, Stacking, Splitting"
      ],
      "metadata": {
        "id": "qNddi_6EBlY-"
      }
    },
    {
      "cell_type": "code",
      "source": [
        "a1 = np.array([[1, 2, 3, 4, 5],\n",
        "               [6, 7, 8, 9, 10]])\n",
        "\n",
        "a2 = np.array([[11, 12, 13, 14, 15],\n",
        "               [16, 17, 18, 19, 20]])\n",
        "\n",
        "a = np.concatenate((a1, a2), axis = 0)\n",
        "print(a)\n",
        "\n",
        "aa = np.concatenate((a1, a2), axis = 1)\n",
        "print(aa)\n"
      ],
      "metadata": {
        "colab": {
          "base_uri": "https://localhost:8080/"
        },
        "id": "-lRVB5ONA9ir",
        "outputId": "f21b2af8-87e5-4336-9c62-50b4a808e53e"
      },
      "execution_count": 22,
      "outputs": [
        {
          "output_type": "stream",
          "name": "stdout",
          "text": [
            "[[ 1  2  3  4  5]\n",
            " [ 6  7  8  9 10]\n",
            " [11 12 13 14 15]\n",
            " [16 17 18 19 20]]\n",
            "[[ 1  2  3  4  5 11 12 13 14 15]\n",
            " [ 6  7  8  9 10 16 17 18 19 20]]\n"
          ]
        }
      ]
    },
    {
      "cell_type": "code",
      "source": [
        "a1 = np.array([[1, 2, 3, 4, 5],\n",
        "               [6, 7, 8, 9, 10]])\n",
        "\n",
        "a2 = np.array([[11, 12, 13, 14, 15],\n",
        "               [16, 17, 18, 19, 20]])\n",
        "\n",
        "a = np.stack((a1, a2))\n",
        "print(a)\n",
        "\n",
        "aa = np.vstack((a1, a2))\n",
        "print(aa)\n",
        "\n",
        "aaa = np.hstack((a1, a2))\n",
        "print(aaa)"
      ],
      "metadata": {
        "colab": {
          "base_uri": "https://localhost:8080/"
        },
        "id": "-o-euz5gDcln",
        "outputId": "32c4327e-c0ec-4192-9e33-bb0ab4ed6381"
      },
      "execution_count": 26,
      "outputs": [
        {
          "output_type": "stream",
          "name": "stdout",
          "text": [
            "[[[ 1  2  3  4  5]\n",
            "  [ 6  7  8  9 10]]\n",
            "\n",
            " [[11 12 13 14 15]\n",
            "  [16 17 18 19 20]]]\n",
            "[[ 1  2  3  4  5]\n",
            " [ 6  7  8  9 10]\n",
            " [11 12 13 14 15]\n",
            " [16 17 18 19 20]]\n",
            "[[ 1  2  3  4  5 11 12 13 14 15]\n",
            " [ 6  7  8  9 10 16 17 18 19 20]]\n"
          ]
        }
      ]
    },
    {
      "cell_type": "code",
      "source": [
        "a = np.array([[1, 2, 3, 4, 5],\n",
        "               [6, 7, 8, 9, 10],\n",
        "               [11, 12, 13, 14, 15],\n",
        "               [16, 17, 18, 19, 20]])\n",
        "\n",
        "print(np.split(a, 2, axis = 0))"
      ],
      "metadata": {
        "colab": {
          "base_uri": "https://localhost:8080/"
        },
        "id": "5_HWLOaPDmtD",
        "outputId": "63ebb44b-5f42-456d-fae7-3def39b55858"
      },
      "execution_count": 31,
      "outputs": [
        {
          "output_type": "stream",
          "name": "stdout",
          "text": [
            "[array([[ 1,  2,  3,  4,  5],\n",
            "       [ 6,  7,  8,  9, 10]]), array([[11, 12, 13, 14, 15],\n",
            "       [16, 17, 18, 19, 20]])]\n"
          ]
        }
      ]
    },
    {
      "cell_type": "markdown",
      "source": [
        "Aggregate Function"
      ],
      "metadata": {
        "id": "ws-GM6k0GML8"
      }
    },
    {
      "cell_type": "code",
      "source": [
        "a = np.array([[1, 2, 3, 4, 5],\n",
        "               [6, 7, 8, 9, 10],\n",
        "               [11, 12, 13, 14, 15],\n",
        "               [16, 17, 18, 19, 20]])\n",
        "print(a.min())\n",
        "print(a.max())\n",
        "print(a.mean())\n",
        "print(a.std())\n",
        "print(a.sum())\n",
        "print(np.median(a))\n"
      ],
      "metadata": {
        "colab": {
          "base_uri": "https://localhost:8080/"
        },
        "id": "4gPzdv3XEghX",
        "outputId": "54c8f44c-200a-4c59-9484-49a80e908d2b"
      },
      "execution_count": 34,
      "outputs": [
        {
          "output_type": "stream",
          "name": "stdout",
          "text": [
            "1\n",
            "20\n",
            "10.5\n",
            "5.766281297335398\n",
            "210\n",
            "10.5\n"
          ]
        }
      ]
    },
    {
      "cell_type": "markdown",
      "source": [
        "Random"
      ],
      "metadata": {
        "id": "SW7spB1qGuGk"
      }
    },
    {
      "cell_type": "code",
      "source": [
        "number = np.random.randint(100)\n",
        "print(number)\n",
        "\n",
        "numbers = np.random.randint(90, 100, size = (2, 3, 4))\n",
        "print(numbers)"
      ],
      "metadata": {
        "colab": {
          "base_uri": "https://localhost:8080/"
        },
        "id": "kfisVsVrGazY",
        "outputId": "9e7b6aee-4bfa-4b63-bc67-9eecd32a5b1a"
      },
      "execution_count": 38,
      "outputs": [
        {
          "output_type": "stream",
          "name": "stdout",
          "text": [
            "42\n",
            "[[[97 98 95 99]\n",
            "  [94 98 92 93]\n",
            "  [95 97 97 92]]\n",
            "\n",
            " [[93 92 95 96]\n",
            "  [99 90 91 99]\n",
            "  [91 96 93 98]]]\n"
          ]
        }
      ]
    },
    {
      "cell_type": "code",
      "source": [
        "number_one = np.random.binomial(10, p = 0.5, size = (5, 10))\n",
        "print(number_one)\n",
        "\n",
        "number_two = np.random.choice([10, 20, 30, 40, 50], size = (5, 10))\n",
        "print(number_two)"
      ],
      "metadata": {
        "colab": {
          "base_uri": "https://localhost:8080/"
        },
        "id": "W0lCdc2lHMZv",
        "outputId": "b25da70e-c62f-43ff-90d0-a0a2ad3f0faf"
      },
      "execution_count": 41,
      "outputs": [
        {
          "output_type": "stream",
          "name": "stdout",
          "text": [
            "[[6 4 5 4 4 3 6 7 6 5]\n",
            " [6 5 6 4 3 4 3 6 3 5]\n",
            " [2 4 6 6 5 4 7 5 7 5]\n",
            " [6 5 3 4 4 4 6 3 5 5]\n",
            " [7 6 5 4 6 2 5 3 5 7]]\n",
            "[[40 30 50 40 10 20 40 10 50 40]\n",
            " [40 20 30 30 40 20 40 40 50 30]\n",
            " [30 40 10 10 10 40 10 40 50 30]\n",
            " [10 50 20 20 20 40 30 40 10 50]\n",
            " [10 50 20 20 20 30 10 30 50 10]]\n"
          ]
        }
      ]
    },
    {
      "cell_type": "markdown",
      "source": [
        "Exporting and Importing numpy"
      ],
      "metadata": {
        "id": "ylIzxjmbIlV3"
      }
    },
    {
      "cell_type": "code",
      "source": [
        "#a = np.array([[1, 2, 3, 4, 5],\n",
        "#              [6, 7, 8, 9, 10],\n",
        "#              [11, 12, 13, 14, 15],\n",
        "#              [16, 17, 18, 19, 20]])\n",
        "\n",
        "# np.savetxt(\"myarray.csv\", a, delimiter = \",\") #There will be a csv file in your drive.\n",
        "\n",
        "a = np.loadtxt(\"myarray.csv\", delimiter = \",\")\n",
        "print(a)"
      ],
      "metadata": {
        "colab": {
          "base_uri": "https://localhost:8080/"
        },
        "id": "zTuy8WCaH-xp",
        "outputId": "3cad40a5-aa7f-4067-8b74-e8fcffec39a1"
      },
      "execution_count": 44,
      "outputs": [
        {
          "output_type": "stream",
          "name": "stdout",
          "text": [
            "[[ 1.  2.  3.  4.  5.]\n",
            " [ 6.  7.  8.  9. 10.]\n",
            " [11. 12. 13. 14. 15.]\n",
            " [16. 17. 18. 19. 20.]]\n"
          ]
        }
      ]
    },
    {
      "cell_type": "code",
      "source": [],
      "metadata": {
        "id": "1sD8KPkNPNEL"
      },
      "execution_count": null,
      "outputs": []
    }
  ]
}