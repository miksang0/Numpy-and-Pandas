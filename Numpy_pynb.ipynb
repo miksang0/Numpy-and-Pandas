{
  "nbformat": 4,
  "nbformat_minor": 0,
  "metadata": {
    "colab": {
      "provenance": []
    },
    "kernelspec": {
      "name": "python3",
      "display_name": "Python 3"
    },
    "language_info": {
      "name": "python"
    }
  },
  "cells": [
    {
      "cell_type": "code",
      "execution_count": 1,
      "metadata": {
        "colab": {
          "base_uri": "https://localhost:8080/"
        },
        "id": "4-iaVa90kaSS",
        "outputId": "da66c45c-9139-489d-eb91-ee5a42e040fe"
      },
      "outputs": [
        {
          "output_type": "stream",
          "name": "stdout",
          "text": [
            "[1, 2, 3, 4, 5]\n"
          ]
        }
      ],
      "source": [
        "import numpy as np\n",
        "a = [1, 2, 3, 4, 5]\n",
        "print(a)"
      ]
    },
    {
      "cell_type": "code",
      "source": [
        "a = np.array([1, 2, 3, 4, 5, 6, 7])\n",
        "print(a)\n",
        "print(a[:6])\n",
        "print(a[5])"
      ],
      "metadata": {
        "colab": {
          "base_uri": "https://localhost:8080/"
        },
        "id": "oeDE_BzGlN41",
        "outputId": "e2d87a74-2735-45ae-a725-f7331fddb7e8"
      },
      "execution_count": 2,
      "outputs": [
        {
          "output_type": "stream",
          "name": "stdout",
          "text": [
            "[1 2 3 4 5 6 7]\n",
            "[1 2 3 4 5 6]\n",
            "6\n"
          ]
        }
      ]
    },
    {
      "cell_type": "code",
      "source": [
        "a_mul = np.array([[[1, 2, 3, 1],\n",
        "                   [4, 5, 6, 1],\n",
        "                   [7, 8, 9, 1],\n",
        "                   [10, 11, 12, 1]],\n",
        "                  [[1, 1, 1, 1],\n",
        "                    [1, 1, 1, 1],\n",
        "                    [1, 1, 1, 1],\n",
        "                    [1, 1, 1, 1]]])\n",
        "\n",
        "print(a_mul.shape)\n",
        "print(a_mul.ndim)\n",
        "print(a_mul.size)\n",
        "print(a_mul.dtype)\n"
      ],
      "metadata": {
        "colab": {
          "base_uri": "https://localhost:8080/"
        },
        "id": "j7Z-WPfalugb",
        "outputId": "4d7d5cff-2368-4f69-e926-8a6fa2f6485a"
      },
      "execution_count": 3,
      "outputs": [
        {
          "output_type": "stream",
          "name": "stdout",
          "text": [
            "(2, 4, 4)\n",
            "3\n",
            "32\n",
            "int64\n"
          ]
        }
      ]
    },
    {
      "cell_type": "code",
      "source": [
        "a = np.array([[1, 2, 3],\n",
        "              [4, \"5\", 6],\n",
        "              [7, 8, 9]], dtype = np.float32)\n",
        "print(a.dtype)\n",
        "print(a[0][0].dtype)\n",
        "print(a[1, 1])"
      ],
      "metadata": {
        "colab": {
          "base_uri": "https://localhost:8080/"
        },
        "id": "vZ21mgeKnFnK",
        "outputId": "3281ee5b-9b45-407c-9285-b0bdc77c9d1b"
      },
      "execution_count": 4,
      "outputs": [
        {
          "output_type": "stream",
          "name": "stdout",
          "text": [
            "float32\n",
            "float32\n",
            "5.0\n"
          ]
        }
      ]
    },
    {
      "cell_type": "markdown",
      "source": [
        "When we have something that is not a primitive datatype that we can typecast into, everything become an object. This means dynamictyping. When we want all the number into same datatype as dictionary we have to use python style object."
      ],
      "metadata": {
        "id": "Bh0FcedeqW-b"
      }
    },
    {
      "cell_type": "code",
      "source": [
        "d = {'1': 'A'}\n",
        "\n",
        "a = np.array([[1, 2, 3],\n",
        "              [4, d, 6],\n",
        "              [7, 8, \"hello\"]])\n",
        "print(a.dtype)\n",
        "print(type(a[1][0]))"
      ],
      "metadata": {
        "colab": {
          "base_uri": "https://localhost:8080/"
        },
        "id": "fIFezQVLoIiw",
        "outputId": "6ec20f35-901d-483c-c95b-bab12240d8bd"
      },
      "execution_count": 5,
      "outputs": [
        {
          "output_type": "stream",
          "name": "stdout",
          "text": [
            "object\n",
            "<class 'int'>\n"
          ]
        }
      ]
    },
    {
      "cell_type": "markdown",
      "source": [
        "Filling Arrays using different functions."
      ],
      "metadata": {
        "id": "c42wEqGBIv43"
      }
    },
    {
      "cell_type": "code",
      "source": [
        "a = np.full((2, 3, 4), 9)\n",
        "print(a)"
      ],
      "metadata": {
        "id": "UEXcXCb3qBQW",
        "colab": {
          "base_uri": "https://localhost:8080/"
        },
        "outputId": "94922fc3-1be6-4a8a-d033-b7ff3c94c4f2"
      },
      "execution_count": 6,
      "outputs": [
        {
          "output_type": "stream",
          "name": "stdout",
          "text": [
            "[[[9 9 9 9]\n",
            "  [9 9 9 9]\n",
            "  [9 9 9 9]]\n",
            "\n",
            " [[9 9 9 9]\n",
            "  [9 9 9 9]\n",
            "  [9 9 9 9]]]\n"
          ]
        }
      ]
    },
    {
      "cell_type": "code",
      "source": [
        "a = np.zeros((5, 5, 2))\n",
        "print(a)"
      ],
      "metadata": {
        "colab": {
          "base_uri": "https://localhost:8080/"
        },
        "id": "rysKLLePHWx3",
        "outputId": "b612e62a-6acb-4f63-99a9-be55b5a6e952"
      },
      "execution_count": 12,
      "outputs": [
        {
          "output_type": "stream",
          "name": "stdout",
          "text": [
            "[[[0. 0.]\n",
            "  [0. 0.]\n",
            "  [0. 0.]\n",
            "  [0. 0.]\n",
            "  [0. 0.]]\n",
            "\n",
            " [[0. 0.]\n",
            "  [0. 0.]\n",
            "  [0. 0.]\n",
            "  [0. 0.]\n",
            "  [0. 0.]]\n",
            "\n",
            " [[0. 0.]\n",
            "  [0. 0.]\n",
            "  [0. 0.]\n",
            "  [0. 0.]\n",
            "  [0. 0.]]\n",
            "\n",
            " [[0. 0.]\n",
            "  [0. 0.]\n",
            "  [0. 0.]\n",
            "  [0. 0.]\n",
            "  [0. 0.]]\n",
            "\n",
            " [[0. 0.]\n",
            "  [0. 0.]\n",
            "  [0. 0.]\n",
            "  [0. 0.]\n",
            "  [0. 0.]]]\n"
          ]
        }
      ]
    },
    {
      "cell_type": "code",
      "source": [
        "np.ones((5, 3, 3))\n",
        "print(a)"
      ],
      "metadata": {
        "colab": {
          "base_uri": "https://localhost:8080/"
        },
        "id": "F4sFCYpQHswJ",
        "outputId": "5c3f1e1e-1cdf-40d8-ce3b-76b661a75258"
      },
      "execution_count": 14,
      "outputs": [
        {
          "output_type": "stream",
          "name": "stdout",
          "text": [
            "[[[0. 0.]\n",
            "  [0. 0.]\n",
            "  [0. 0.]\n",
            "  [0. 0.]\n",
            "  [0. 0.]]\n",
            "\n",
            " [[0. 0.]\n",
            "  [0. 0.]\n",
            "  [0. 0.]\n",
            "  [0. 0.]\n",
            "  [0. 0.]]\n",
            "\n",
            " [[0. 0.]\n",
            "  [0. 0.]\n",
            "  [0. 0.]\n",
            "  [0. 0.]\n",
            "  [0. 0.]]\n",
            "\n",
            " [[0. 0.]\n",
            "  [0. 0.]\n",
            "  [0. 0.]\n",
            "  [0. 0.]\n",
            "  [0. 0.]]\n",
            "\n",
            " [[0. 0.]\n",
            "  [0. 0.]\n",
            "  [0. 0.]\n",
            "  [0. 0.]\n",
            "  [0. 0.]]]\n"
          ]
        }
      ]
    },
    {
      "cell_type": "markdown",
      "source": [
        "With np.arrange we can specify the beginning step, the end step and step size."
      ],
      "metadata": {
        "id": "Gs9b5hNgI9Qr"
      }
    },
    {
      "cell_type": "code",
      "source": [
        "x_values = np.arange(0, 500, 5)\n",
        "print(x_values)"
      ],
      "metadata": {
        "colab": {
          "base_uri": "https://localhost:8080/"
        },
        "id": "7LVJ-gnkH54F",
        "outputId": "36ae0cb8-bf52-44bd-885d-a3b7571864af"
      },
      "execution_count": 16,
      "outputs": [
        {
          "output_type": "stream",
          "name": "stdout",
          "text": [
            "[  0   5  10  15  20  25  30  35  40  45  50  55  60  65  70  75  80  85\n",
            "  90  95 100 105 110 115 120 125 130 135 140 145 150 155 160 165 170 175\n",
            " 180 185 190 195 200 205 210 215 220 225 230 235 240 245 250 255 260 265\n",
            " 270 275 280 285 290 295 300 305 310 315 320 325 330 335 340 345 350 355\n",
            " 360 365 370 375 380 385 390 395 400 405 410 415 420 425 430 435 440 445\n",
            " 450 455 460 465 470 475 480 485 490 495]\n"
          ]
        }
      ]
    },
    {
      "cell_type": "markdown",
      "source": [
        "With np.linspace we can specify the beginning step, the end step and the step count."
      ],
      "metadata": {
        "id": "RPQGHUCsJHLO"
      }
    },
    {
      "cell_type": "code",
      "source": [
        "y_values = np.linspace(0, 100, 5)\n",
        "print(y_values)"
      ],
      "metadata": {
        "colab": {
          "base_uri": "https://localhost:8080/"
        },
        "id": "fS9i-qABIfpA",
        "outputId": "f3969553-7650-4fc4-cbf3-98a53783a0d6"
      },
      "execution_count": 19,
      "outputs": [
        {
          "output_type": "stream",
          "name": "stdout",
          "text": [
            "[  0.  25.  50.  75. 100.]\n"
          ]
        }
      ]
    },
    {
      "cell_type": "markdown",
      "source": [
        "NaN and Inf"
      ],
      "metadata": {
        "id": "jlf4w0buKAT7"
      }
    },
    {
      "cell_type": "code",
      "source": [
        "print(np.nan)\n",
        "print(np.inf)\n",
        "\n",
        "print(np.sqrt(-1))\n",
        "print(np.array([10]) / 0)"
      ],
      "metadata": {
        "colab": {
          "base_uri": "https://localhost:8080/"
        },
        "id": "z8rJChkzJPx6",
        "outputId": "2c007aeb-7379-4444-a95a-11263365ae2d"
      },
      "execution_count": 24,
      "outputs": [
        {
          "output_type": "stream",
          "name": "stdout",
          "text": [
            "nan\n",
            "inf\n",
            "nan\n",
            "[inf]\n"
          ]
        },
        {
          "output_type": "stream",
          "name": "stderr",
          "text": [
            "/tmp/ipython-input-1099712202.py:4: RuntimeWarning: invalid value encountered in sqrt\n",
            "  print(np.sqrt(-1))\n",
            "/tmp/ipython-input-1099712202.py:5: RuntimeWarning: divide by zero encountered in divide\n",
            "  print(np.array([10]) / 0)\n"
          ]
        }
      ]
    },
    {
      "cell_type": "markdown",
      "source": [
        "Mathematical Operations in Numpy"
      ],
      "metadata": {
        "id": "PeBSPOdzLFHf"
      }
    },
    {
      "cell_type": "code",
      "source": [
        "listOne = [1, 2, 3, 4, 5]\n",
        "listTwo = [2, 5, 10, 15, 15]\n",
        "\n",
        "arrayOne = np.array(listOne)\n",
        "arrayTwo = np.array(listTwo)\n",
        "\n",
        "print(listOne * 2)\n",
        "print(arrayTwo * 2)"
      ],
      "metadata": {
        "colab": {
          "base_uri": "https://localhost:8080/"
        },
        "id": "uo9BfCdIKFy7",
        "outputId": "9b8594b7-2c58-40aa-e1dc-ddea67c25580"
      },
      "execution_count": 27,
      "outputs": [
        {
          "output_type": "stream",
          "name": "stdout",
          "text": [
            "[1, 2, 3, 4, 5, 1, 2, 3, 4, 5]\n",
            "[ 4 10 20 30 30]\n"
          ]
        }
      ]
    },
    {
      "cell_type": "code",
      "source": [
        "a1 = np.array([1, 2, 3])\n",
        "a2 = np.array([[1],\n",
        "              [2]])\n",
        "print(a1 + a2)"
      ],
      "metadata": {
        "colab": {
          "base_uri": "https://localhost:8080/"
        },
        "id": "N5PmIgCLK8dO",
        "outputId": "c69c344c-f74b-4ece-9afa-dbc981919d2c"
      },
      "execution_count": 28,
      "outputs": [
        {
          "output_type": "stream",
          "name": "stdout",
          "text": [
            "[[2 3 4]\n",
            " [3 4 5]]\n"
          ]
        }
      ]
    },
    {
      "cell_type": "code",
      "source": [
        "a = np.array([[1, 2, 3],\n",
        "              [4, 5, 6]])\n",
        "print(np.sqrt(a))\n",
        "print(np.sin(a))"
      ],
      "metadata": {
        "colab": {
          "base_uri": "https://localhost:8080/"
        },
        "id": "4k2KW1MNL10l",
        "outputId": "395ffc13-51ad-407e-cd7b-902acf7256c5"
      },
      "execution_count": 30,
      "outputs": [
        {
          "output_type": "stream",
          "name": "stdout",
          "text": [
            "[[1.         1.41421356 1.73205081]\n",
            " [2.         2.23606798 2.44948974]]\n",
            "[[ 0.84147098  0.90929743  0.14112001]\n",
            " [-0.7568025  -0.95892427 -0.2794155 ]]\n"
          ]
        }
      ]
    },
    {
      "cell_type": "code",
      "source": [
        "b = np.array([1, 2, 3])\n",
        "b = np.append(a, [7, 8, 9])\n",
        "\n",
        "b = np.insert(a, 3, [8, 9])\n",
        "print(b)"
      ],
      "metadata": {
        "colab": {
          "base_uri": "https://localhost:8080/"
        },
        "id": "P__UJHbWMf3C",
        "outputId": "99cb4f71-0c65-4acb-a9c3-034dda758bf7"
      },
      "execution_count": 33,
      "outputs": [
        {
          "output_type": "stream",
          "name": "stdout",
          "text": [
            "[1 2 3 8 9 4 5 6]\n"
          ]
        }
      ]
    },
    {
      "cell_type": "code",
      "source": [
        "a = np.array([[1, 2, 3],\n",
        "              [4, 5, 6]])\n",
        "\n",
        "print(np.delete(a, 1))\n",
        "print(np.delete(a, 1, axis = 0)) #got rid of the second row\n",
        "print(np.delete(a, 1, axis = 1)) #got rid of the second column\n",
        "\n"
      ],
      "metadata": {
        "colab": {
          "base_uri": "https://localhost:8080/"
        },
        "id": "-8vg-rUYNRBU",
        "outputId": "0fba9327-da26-4ed8-a059-0ad3814d12e9"
      },
      "execution_count": 36,
      "outputs": [
        {
          "output_type": "stream",
          "name": "stdout",
          "text": [
            "[1 3 4 5 6]\n",
            "[[1 2 3]]\n",
            "[[1 3]\n",
            " [4 6]]\n"
          ]
        }
      ]
    },
    {
      "cell_type": "markdown",
      "source": [
        "Structuring the arrays"
      ],
      "metadata": {
        "id": "VYgsM4POPJXN"
      }
    },
    {
      "cell_type": "code",
      "source": [
        "a = np.array([[1, 2, 3, 4, 5],\n",
        "               [6, 7, 8, 9, 10],\n",
        "               [11, 12, 13, 14, 15],\n",
        "               [16, 17, 18, 19, 20]])\n",
        "print(a.shape)\n",
        "print(a.reshape((5,4)))\n",
        "print(a.reshape((20,)))\n",
        "print(a.reshape((2, 10)))\n",
        "print(a.reshape((2, 5, 2)))"
      ],
      "metadata": {
        "colab": {
          "base_uri": "https://localhost:8080/"
        },
        "id": "Ru8WViNuN4fj",
        "outputId": "d3e8bc0f-00a4-470c-eef8-c696818ed6f4"
      },
      "execution_count": 46,
      "outputs": [
        {
          "output_type": "stream",
          "name": "stdout",
          "text": [
            "(4, 5)\n",
            "[[ 1  2  3  4]\n",
            " [ 5  6  7  8]\n",
            " [ 9 10 11 12]\n",
            " [13 14 15 16]\n",
            " [17 18 19 20]]\n",
            "[ 1  2  3  4  5  6  7  8  9 10 11 12 13 14 15 16 17 18 19 20]\n",
            "[[ 1  2  3  4  5  6  7  8  9 10]\n",
            " [11 12 13 14 15 16 17 18 19 20]]\n",
            "[[[ 1  2]\n",
            "  [ 3  4]\n",
            "  [ 5  6]\n",
            "  [ 7  8]\n",
            "  [ 9 10]]\n",
            "\n",
            " [[11 12]\n",
            "  [13 14]\n",
            "  [15 16]\n",
            "  [17 18]\n",
            "  [19 20]]]\n"
          ]
        }
      ]
    },
    {
      "cell_type": "code",
      "source": [
        "a = np.array([[1, 2, 3, 4, 5],\n",
        "               [6, 7, 8, 9, 10],\n",
        "               [11, 12, 13, 14, 15],\n",
        "               [16, 17, 18, 19, 20]])\n",
        "a.reshape((10, 2))\n",
        "print(a)\n",
        "\n",
        "a.resize((10, 2))\n",
        "print(a)\n",
        "\n",
        "print(a.flatten())"
      ],
      "metadata": {
        "colab": {
          "base_uri": "https://localhost:8080/"
        },
        "id": "4-ZkH_YwOmjk",
        "outputId": "2e4ba706-e0e7-4355-92ad-949068434613"
      },
      "execution_count": 51,
      "outputs": [
        {
          "output_type": "stream",
          "name": "stdout",
          "text": [
            "[[ 1  2  3  4  5]\n",
            " [ 6  7  8  9 10]\n",
            " [11 12 13 14 15]\n",
            " [16 17 18 19 20]]\n",
            "[[ 1  2]\n",
            " [ 3  4]\n",
            " [ 5  6]\n",
            " [ 7  8]\n",
            " [ 9 10]\n",
            " [11 12]\n",
            " [13 14]\n",
            " [15 16]\n",
            " [17 18]\n",
            " [19 20]]\n",
            "[ 1  2  3  4  5  6  7  8  9 10 11 12 13 14 15 16 17 18 19 20]\n"
          ]
        }
      ]
    },
    {
      "cell_type": "code",
      "source": [
        "a = np.array([[1, 2, 3, 4, 5],\n",
        "               [6, 7, 8, 9, 10],\n",
        "               [11, 12, 13, 14, 15],\n",
        "               [16, 17, 18, 19, 20]])\n",
        "\n",
        "var1 = a.flatten()\n",
        "var1[2] = 100\n",
        "print(var1)\n",
        "print(a)\n",
        "\n",
        "var2 = a.ravel()\n",
        "var2[2] = 100\n",
        "print(var2)\n",
        "print(a)"
      ],
      "metadata": {
        "colab": {
          "base_uri": "https://localhost:8080/"
        },
        "id": "7gy8Dn4lPv8l",
        "outputId": "64bfb55a-1958-4469-fb4a-0f5bc0354638"
      },
      "execution_count": 56,
      "outputs": [
        {
          "output_type": "stream",
          "name": "stdout",
          "text": [
            "[  1   2 100   4   5   6   7   8   9  10  11  12  13  14  15  16  17  18\n",
            "  19  20]\n",
            "[[ 1  2  3  4  5]\n",
            " [ 6  7  8  9 10]\n",
            " [11 12 13 14 15]\n",
            " [16 17 18 19 20]]\n",
            "[  1   2 100   4   5   6   7   8   9  10  11  12  13  14  15  16  17  18\n",
            "  19  20]\n",
            "[[  1   2 100   4   5]\n",
            " [  6   7   8   9  10]\n",
            " [ 11  12  13  14  15]\n",
            " [ 16  17  18  19  20]]\n"
          ]
        }
      ]
    },
    {
      "cell_type": "code",
      "source": [
        "var = [v for v in a.flat]\n",
        "print(var)"
      ],
      "metadata": {
        "colab": {
          "base_uri": "https://localhost:8080/"
        },
        "id": "XUgnFSACRXjW",
        "outputId": "eb8d18db-5a77-4a96-b2f9-7490f138b672"
      },
      "execution_count": 55,
      "outputs": [
        {
          "output_type": "stream",
          "name": "stdout",
          "text": [
            "[np.int64(1), np.int64(2), np.int64(100), np.int64(4), np.int64(5), np.int64(6), np.int64(7), np.int64(8), np.int64(9), np.int64(10), np.int64(11), np.int64(12), np.int64(13), np.int64(14), np.int64(15), np.int64(16), np.int64(17), np.int64(18), np.int64(19), np.int64(20)]\n"
          ]
        }
      ]
    },
    {
      "cell_type": "code",
      "source": [],
      "metadata": {
        "id": "raHpwHN9RzQF"
      },
      "execution_count": null,
      "outputs": []
    }
  ]
}